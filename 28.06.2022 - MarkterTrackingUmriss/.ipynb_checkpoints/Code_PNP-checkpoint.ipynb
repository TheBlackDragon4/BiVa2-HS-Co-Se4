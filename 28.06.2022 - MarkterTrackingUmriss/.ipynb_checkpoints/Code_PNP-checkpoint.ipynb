{
 "cells": [
  {
   "cell_type": "markdown",
   "metadata": {},
   "source": [
    "<h2>Code-Beispiel: Perspective-N-Point</h2>\n",
    "<font size=\"3\" face=\"Verdana\">\n",
    "<p style=\"text-align:justify\">Im folgenden befindet sich eine interaktive Anwendung zur Veranschaulichung der Berechnung der Baryzentrischen Koordinaten. </p>\n",
    "<p style=\"text-align:justify\">Dazu muss jedoch zuerst in den nachstehenden Code-Block geklickt werden und dieser durch drücken der \"Run\" Taste in der Leiste oben ausgeführt werden. Darunter erscheinen dann Schieberegler mit denen der Punkt verschoben werden kann. Nach jeder Verschiebung werden die Baryzentrischen Koordinaten aktualisiert.</p> \n",
    "</font>"
   ]
  },
  {
   "cell_type": "code",
   "execution_count": 1,
   "metadata": {},
   "outputs": [
    {
     "data": {
      "application/vnd.jupyter.widget-view+json": {
       "model_id": "50962d87ff8d4ed795e8702f66f2f95a",
       "version_major": 2,
       "version_minor": 0
      },
      "text/plain": [
       "interactive(children=(IntSlider(value=0, description='x', max=5, style=SliderStyle(description_width='initial'…"
      ]
     },
     "metadata": {},
     "output_type": "display_data"
    }
   ],
   "source": [
    "from ipywidgets import interact, interactive, fixed, interact_manual\n",
    "import ipywidgets as widgets\n",
    "import matplotlib as mpl\n",
    "from mpl_toolkits.mplot3d import Axes3D\n",
    "import numpy as np\n",
    "import matplotlib.pyplot as plt\n",
    "from matplotlib.patches import FancyArrowPatch\n",
    "from mpl_toolkits.mplot3d import proj3d\n",
    "import math\n",
    "\n",
    "\n",
    "\n",
    "\n",
    "def visualization(x, y, z):\n",
    "    #aktueller Punkt berechnen\n",
    "    point = np.array([[x],\n",
    "                     [y],\n",
    "                     [z],\n",
    "                     [1]])\n",
    "    \n",
    "    #Kontrollpunkte definieren als Matrix\n",
    "    control_points = np.array([[0, 4, 0, 0],\n",
    "            [0, 0, 4, 0], \n",
    "            [0, 0, 0, 4],\n",
    "            [1, 1, 1, 1]])\n",
    "    \n",
    "    fig = plt.figure()\n",
    "    ax = fig.add_subplot(111, projection='3d')\n",
    "    ax.set_xlim([-1,6])\n",
    "    ax.set_ylim([-1,6])\n",
    "    ax.set_zlim([-1,6])\n",
    "    ax.set_yticklabels([])\n",
    "    ax.set_xticklabels([])\n",
    "    ax.set_zticklabels([])\n",
    "\n",
    "    #Kontrollpunkte einzeichnen\n",
    "    ax.scatter3D(control_points[0,0], control_points[1,0], control_points[2,0], cmap='Greens', c='black');\n",
    "    ax.scatter3D(control_points[0,1], control_points[1,1], control_points[2,1], cmap='Greens', c='red');\n",
    "    ax.scatter3D(control_points[0,2], control_points[1,2], control_points[2,2], cmap='Greens', c='green');\n",
    "    ax.scatter3D(control_points[0,3], control_points[1,3], control_points[2,3], cmap='Greens', c='blue');\n",
    "    ax.scatter3D(point[0,:], point[1,:], point[2,:], cmap='Greens', c='gray', marker='s');\n",
    "    \n",
    "    #Vektor für Baryzentrische Koordinaten definieren\n",
    "    alphas = np.zeros((4,1))\n",
    "    \n",
    "    alphas = np.linalg.inv(control_points).dot(point)\n",
    "    \n",
    "    print(\"Baryzentrische Koordinaten des Punktes (x,y,z) mit den Kontrollpunkten (0,0,0,1), (4,0,0,1), (0,4,0,1), (0,0,4,1):\")\n",
    "    print('\\x1b[0;37;40m' +\"alpha 1:\"+ '\\x1b[0m', alphas[0,0])\n",
    "    print('\\x1b[6;30;41m' +\"alpha 2:\"+ '\\x1b[0m', alphas[1,0])\n",
    "    print('\\x1b[6;30;42m' +\"alpha 3:\"+ '\\x1b[0m', alphas[2,0])\n",
    "    print('\\x1b[6;30;44m' +\"alpha 4:\"+ '\\x1b[0m', alphas[3,0])\n",
    "\n",
    "   \n",
    "    plt.show()\n",
    "    \n",
    "    \n",
    "\n",
    "\n",
    "\n",
    "style = {'description_width': 'initial'}\n",
    "interact(visualization, x=widgets.IntSlider(min=0, max=5, step=1, value=0, description='x', style=style), y=widgets.IntSlider(min=0, max=5, step=1, value=0, description='y', style=style), z=widgets.IntSlider(min=0, max=5, step=1, value=0, description='z', style=style));\n",
    "\n"
   ]
  },
  {
   "cell_type": "code",
   "execution_count": null,
   "metadata": {},
   "outputs": [],
   "source": []
  }
 ],
 "metadata": {
  "kernelspec": {
   "display_name": "Python 3",
   "language": "python",
   "name": "python3"
  },
  "language_info": {
   "codemirror_mode": {
    "name": "ipython",
    "version": 3
   },
   "file_extension": ".py",
   "mimetype": "text/x-python",
   "name": "python",
   "nbconvert_exporter": "python",
   "pygments_lexer": "ipython3",
   "version": "3.8.8"
  }
 },
 "nbformat": 4,
 "nbformat_minor": 4
}
