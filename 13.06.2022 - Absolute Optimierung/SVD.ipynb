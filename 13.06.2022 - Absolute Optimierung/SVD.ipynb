{
 "cells": [
  {
   "cell_type": "code",
   "execution_count": 1,
   "id": "09335140",
   "metadata": {},
   "outputs": [],
   "source": [
    "import numpy as np"
   ]
  },
  {
   "cell_type": "code",
   "execution_count": 2,
   "id": "c46cadd1",
   "metadata": {},
   "outputs": [
    {
     "name": "stdout",
     "output_type": "stream",
     "text": [
      "u:\n",
      "[[ 0.16789993 -0.7342431   0.65779684]\n",
      " [ 0.85511515 -0.22353101 -0.46777342]\n",
      " [ 0.4904974   0.64103117  0.59033155]]\n",
      "sigma:\n",
      "[[12.8834589   0.          0.        ]\n",
      " [ 0.          8.38324283  0.        ]\n",
      " [ 0.          0.          0.73329827]]\n",
      "v tans:\n",
      "[[ 0.4904974   0.85511515 -0.16789993]\n",
      " [ 0.64103117 -0.22353101  0.7342431 ]\n",
      " [ 0.59033155 -0.46777342 -0.65779684]]\n",
      "ursprüngliche Matrix:\n",
      "[[-2.6  3.  -5.2]\n",
      " [ 4.  10.  -3. ]\n",
      " [ 6.8  4.   2.6]]\n"
     ]
    }
   ],
   "source": [
    "#hier matrix ändern um ihre SVD zu berechnen\n",
    "matrix = np.array([[-2.6, 3, -5.2],[4, 10, -3],[6.8, 4, 2.6]]) \n",
    "\n",
    "u,s,v_trans = np.linalg.svd(matrix)\n",
    "\n",
    "sigma = np.zeros(matrix.shape)\n",
    "np.fill_diagonal(sigma,s)\n",
    "print(\"u:\")\n",
    "print(u)\n",
    "print(\"sigma:\")\n",
    "print(sigma)\n",
    "print(\"v tans:\")\n",
    "print(v_trans)\n",
    "print(\"ursprüngliche Matrix:\")\n",
    "print(np.dot(u, np.dot(sigma,v_trans)))"
   ]
  },
  {
   "cell_type": "code",
   "execution_count": null,
   "id": "beb374cf",
   "metadata": {},
   "outputs": [],
   "source": []
  }
 ],
 "metadata": {
  "kernelspec": {
   "display_name": "Python 3.8.8 ('base')",
   "language": "python",
   "name": "python3"
  },
  "language_info": {
   "codemirror_mode": {
    "name": "ipython",
    "version": 3
   },
   "file_extension": ".py",
   "mimetype": "text/x-python",
   "name": "python",
   "nbconvert_exporter": "python",
   "pygments_lexer": "ipython3",
   "version": "3.8.8"
  },
  "vscode": {
   "interpreter": {
    "hash": "397ecc602fe81ddf473b3d3c093c963cb1cf9b1fb722ed456945cd0768fc3f52"
   }
  }
 },
 "nbformat": 4,
 "nbformat_minor": 5
}
