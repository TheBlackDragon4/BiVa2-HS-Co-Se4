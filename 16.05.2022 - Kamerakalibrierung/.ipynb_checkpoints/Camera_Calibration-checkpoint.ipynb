{
 "cells": [
  {
   "cell_type": "code",
   "execution_count": 1,
   "id": "2a1c489e",
   "metadata": {
    "executionInfo": {
     "elapsed": 632,
     "status": "ok",
     "timestamp": 1652269228325,
     "user": {
      "displayName": "negar noori",
      "userId": "16128953980766923808"
     },
     "user_tz": -120
    },
    "id": "2a1c489e"
   },
   "outputs": [
    {
     "name": "stdout",
     "output_type": "stream",
     "text": [
      "Hallo!\n",
      "Hallo!\n",
      "Hallo!\n",
      "Hallo!\n",
      "Hallo!\n",
      "Hallo!\n",
      "Hallo!\n"
     ]
    }
   ],
   "source": [
    "import numpy as np\n",
    "import cv2 as cv\n",
    "import glob\n",
    "#define dimentions of checkerboard\n",
    "CHECKERBOARD = (6,9)\n",
    "\n",
    "# termination criteria for finding good corners\n",
    "criteria = (cv.TERM_CRITERIA_EPS + cv.TERM_CRITERIA_MAX_ITER, 30, 0.001)\n",
    "\n",
    "# define world coordinates for 3D points\n",
    "objp = np.zeros((CHECKERBOARD[0] * CHECKERBOARD[1], 3), np.float32)\n",
    "objp[:,:2] = np.mgrid[0:CHECKERBOARD[0],0:CHECKERBOARD[1]].T.reshape(-1,2) *25  # * SIZE OF TILES\n",
    "\n",
    "# Arrays to store object points and image points from all the images.\n",
    "objpoints = [] # 3d point in real world space\n",
    "imgpoints = [] # 2d points in image plane.\n",
    "\n",
    "#get images\n",
    "images = glob.glob('*.jpg')\n",
    "for fname in images:\n",
    "    print(\"Hallo!\")\n",
    "    img = cv.imread(fname)\n",
    "    gray = cv.cvtColor(img, cv.COLOR_BGR2GRAY)\n",
    "    # Find the chess board corners gray=current-image; CHECKERBOARD=patternSize/number of inner corners        \n",
    "    ret, corners = cv.findChessboardCorners(gray, CHECKERBOARD, None)\n",
    "    # If found, add object points, image points (after refining them)\n",
    "    if ret == True:\n",
    "        objpoints.append(objp)\n",
    "        corners2 = cv.cornerSubPix(gray,corners, (11,11), (-1,-1), criteria)\n",
    "        imgpoints.append(corners2)\n",
    "        # Draw and display the corners\n",
    "        cv.drawChessboardCorners(img, CHECKERBOARD, corners2, ret)\n",
    "        cv.imshow('img', img)\n",
    "        cv.waitKey(0)\n",
    "cv.destroyAllWindows()"
   ]
  },
  {
   "cell_type": "code",
   "execution_count": null,
   "id": "8a081aae",
   "metadata": {
    "id": "8a081aae"
   },
   "outputs": [],
   "source": [
    "#ret, mtx, dist, rvecs, tvecs = cv.calibrateCamera(objpoints, imgpoints, gray.shape[::-1], None, None)\n",
    "ret, mtx, dist, rvecs, tvecs = cv.calibrateCamera(objpoints, imgpoints, gray.shape[::-1], None, None)"
   ]
  },
  {
   "cell_type": "code",
   "execution_count": null,
   "id": "944cf87c",
   "metadata": {
    "id": "944cf87c"
   },
   "outputs": [],
   "source": [
    "img = cv.imread('left1-s.jpg')\n",
    "h,  w = img.shape[:2]\n",
    "newcameramtx, roi = cv.getOptimalNewCameraMatrix(mtx, dist, (w,h), 1, (w,h))"
   ]
  },
  {
   "cell_type": "code",
   "execution_count": null,
   "id": "f91ad912",
   "metadata": {
    "id": "f91ad912",
    "outputId": "0c752167-86d3-45b4-bcf4-2c0c1070e9f5"
   },
   "outputs": [],
   "source": [
    "# undistort\n",
    "mapx, mapy = cv.initUndistortRectifyMap(mtx, dist, None, newcameramtx, (w,h), 5)\n",
    "dst = cv.remap(img, mapx, mapy, cv.INTER_LINEAR)\n",
    "cv.imwrite('calibresult2.png', dst)"
   ]
  },
  {
   "cell_type": "code",
   "execution_count": null,
   "id": "b48a4f4a",
   "metadata": {
    "id": "b48a4f4a",
    "outputId": "0c357099-a8fc-4855-96f1-bb17b9d68851"
   },
   "outputs": [],
   "source": [
    "print(\"Cameramatrix\") # focal_length_welt = focal_length_coefficient * sensor_size_in_mm / image_size_in_px\n",
    "print(mtx)\n",
    "\n",
    "#Radial distortion causes straight lines to appear curved. Radial distortion becomes larger the farther points are from the center of the image.\n",
    "#Similarly, tangential distortion occurs because the image-taking lense is not aligned perfectly parallel to the imaging plane. So, some areas in the image may look nearer than expected. \n",
    "print(\"Distortion Coefficients\") \n",
    "print(dist)\n",
    "print(\"Translation\")\n",
    "print(tvecs)\n",
    "print(\"Rotation\")\n",
    "print(rvecs)"
   ]
  },
  {
   "cell_type": "code",
   "execution_count": null,
   "id": "d020c973",
   "metadata": {
    "id": "d020c973"
   },
   "outputs": [],
   "source": []
  },
  {
   "cell_type": "code",
   "execution_count": null,
   "id": "ed7bcfd7",
   "metadata": {},
   "outputs": [],
   "source": []
  },
  {
   "cell_type": "code",
   "execution_count": null,
   "id": "d6385bef",
   "metadata": {},
   "outputs": [],
   "source": []
  }
 ],
 "metadata": {
  "colab": {
   "name": "Untitled1.ipynb",
   "provenance": []
  },
  "kernelspec": {
   "display_name": "Python 3",
   "language": "python",
   "name": "python3"
  },
  "language_info": {
   "codemirror_mode": {
    "name": "ipython",
    "version": 3
   },
   "file_extension": ".py",
   "mimetype": "text/x-python",
   "name": "python",
   "nbconvert_exporter": "python",
   "pygments_lexer": "ipython3",
   "version": "3.8.8"
  }
 },
 "nbformat": 4,
 "nbformat_minor": 5
}
