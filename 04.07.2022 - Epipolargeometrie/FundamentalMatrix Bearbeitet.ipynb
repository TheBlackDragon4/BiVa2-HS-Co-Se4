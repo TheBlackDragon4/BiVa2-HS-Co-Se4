{
 "cells": [
  {
   "cell_type": "markdown",
   "metadata": {},
   "source": [
    "# Epipolar Geometry and Fundamental matrix"
   ]
  },
  {
   "cell_type": "code",
   "execution_count": 12,
   "metadata": {
    "collapsed": true
   },
   "outputs": [],
   "source": [
    "import cv2\n",
    "import matplotlib.pyplot as plt\n",
    "import numpy as np"
   ]
  },
  {
   "cell_type": "markdown",
   "metadata": {},
   "source": [
    "## Chessboard points as corresponding points"
   ]
  },
  {
   "cell_type": "code",
   "execution_count": 13,
   "metadata": {
    "collapsed": true
   },
   "outputs": [],
   "source": [
    "# Look at img0.png and img1.png and insert appropriate CHESSBOARD_SIZE\n",
    "CHESSBOARD_SIZE=(9,6)"
   ]
  },
  {
   "cell_type": "code",
   "execution_count": 14,
   "metadata": {
    "collapsed": true
   },
   "outputs": [],
   "source": [
    "# Load images\n",
    "img0=cv2.imread(\"img0.png\")\n",
    "img1=cv2.imread(\"img1.png\")\n",
    "img0Gray=cv2.cvtColor(img0,cv2.COLOR_BGR2GRAY)\n",
    "img1Gray=cv2.cvtColor(img1,cv2.COLOR_BGR2GRAY)\n",
    "img0GrayEQ= cv2.equalizeHist(img0Gray)\n",
    "img1GrayEQ= cv2.equalizeHist(img1Gray)\n",
    "#Detecting chessboard corner points points0, points1 with cv2.findChessboardCorners(...) from img0 and img1.\n",
    "(ret0,points0) = cv2.findChessboardCorners(img0GrayEQ,CHESSBOARD_SIZE,cv2.CALIB_CB_ADAPTIVE_THRESH)\n",
    "(ret1,points1) = cv2.findChessboardCorners(img1GrayEQ,CHESSBOARD_SIZE,cv2.CALIB_CB_ADAPTIVE_THRESH)\n"
   ]
  },
  {
   "cell_type": "markdown",
   "metadata": {},
   "source": [
    "## Estimating fundamental matrix using direct linear transformation."
   ]
  },
  {
   "cell_type": "code",
   "execution_count": 10,
   "metadata": {
    "collapsed": true
   },
   "outputs": [],
   "source": [
    "# Estimating fundamental matrix\n",
    "L=np.ones((len(points0),9))\n",
    "\n",
    "# TODO1 Building left matrix\n",
    "for i in range(0,len(points0)):\n",
    "     p0=points0[i][0]\n",
    "    p1=points1[i][0]\n",
    "    L[i,0]=p1[0]*p0[0]#x1x0\n",
    "    L[i,1]=p1[0]*p0[1]#x1y0\n",
    "    L[i,2]=p1[0]#x1\n",
    "    L[i,3]=p1[1]*p0[0]#y1x0\n",
    "    L[i,4]=p1[1]*p0[1]#y1y0\n",
    "    L[i,5]=p1[1]#y1\n",
    "    L[i,6]=p0[0]#x0\n",
    "    L[i,7]=p0[1]#y0\n",
    "# END_OF TODO1\n",
    "\n",
    "# TODO2 SVD from left matrix\n",
    "u,s,vt=np.linalg.svd(L)\n",
    "# END_OF TODO2\n",
    "\n",
    "# TODO3 Get fundametnal matrix\n",
    "f_vector=vt[8]\n",
    "F=np.reshape(f_vector, (3,3)) # reshape\n",
    "# END_OF TODO3\n",
    "print(\"Fundamental matrix:\")\n",
    "print(F)"
   ]
  },
  {
   "cell_type": "markdown",
   "metadata": {},
   "source": [
    "## Epipoles and epipolar lines"
   ]
  },
  {
   "cell_type": "code",
   "execution_count": 16,
   "metadata": {
    "collapsed": true
   },
   "outputs": [],
   "source": [
    "# Epipolar lines and epipole in img1\n",
    "# TODO4 calculate epipole e1 in img1. \n",
    "#Hint: Epipol in Bild 2 wird berechnet durch die SVD von F.transponiert, dann ist der Epipol der normalisierte Vektor der V-Matrix der zum kleinsten Singulärwert gehört \n",
    "uft,sft,vft_t=np.linalg.svd(F.transpose())\n",
    "e1=vft_t[2]\n",
    "e1/=e1[2]\n",
    "# END_OF TODO4\n",
    "\n",
    "l1s=[]\n",
    "#Calculate epipolar lines l1s corresponding to all points0\n",
    "for i in range(0,len(points0)):\n",
    "    p0=points0[i][0]\n",
    "    p0homogen=np.array([ [p0[0]] , [p0[1]] ,[ 1]])\n",
    "    # TODO5 calculate epipolar lines l1s corresponding to points0\n",
    "    # Hint: line = dot_product (F . p0)\n",
    "    l1s.append(None)\n",
    "    # END_OF TODO5"
   ]
  },
  {
   "cell_type": "markdown",
   "metadata": {},
   "source": [
    "## Displaying"
   ]
  },
  {
   "cell_type": "code",
   "execution_count": 9,
   "metadata": {
    "collapsed": true,
    "scrolled": false
   },
   "outputs": [],
   "source": [
    "imgWidth=img0.shape[1]\n",
    "imgHConcat=cv2.hconcat([img0,img1])\n",
    "t=imgRBG=cv2.cvtColor(imgHConcat,cv2.COLOR_BGR2RGB)\n",
    "for i in range(0,len(points0)):\n",
    "    img=imgHConcat.copy()\n",
    "    # Mark point on img0\n",
    "    p0=points0[i][0]\n",
    "    cv2.circle(img,(int(p0[0]),int(p0[1])),3,(0,0,255),30)\n",
    "    # Mark line on img1\n",
    "    l1=l1s[i]\n",
    "    left=(imgWidth,int(-l1[2]/l1[1]))\n",
    "    right=(imgWidth*2,int((-l1[2]-l1[0]*imgWidth)/l1[1]))\n",
    "    cv2.line(img,left,right,(0,0,255),5)\n",
    "    # Mark epipole on img1\n",
    "    cv2.circle(img,(imgWidth+int(e1[0]),int(e1[1])),4,(255,0,0),30)\n",
    "    plt.imshow(img)\n",
    "    plt.show()"
   ]
  },
  {
   "cell_type": "code",
   "execution_count": null,
   "metadata": {
    "collapsed": true
   },
   "outputs": [],
   "source": []
  }
 ],
 "metadata": {
  "kernelspec": {
   "display_name": "Python 3",
   "language": "python",
   "name": "python3"
  },
  "language_info": {
   "codemirror_mode": {
    "name": "ipython",
    "version": 3
   },
   "file_extension": ".py",
   "mimetype": "text/x-python",
   "name": "python",
   "nbconvert_exporter": "python",
   "pygments_lexer": "ipython3",
   "version": "3.6.3"
  }
 },
 "nbformat": 4,
 "nbformat_minor": 2
}
